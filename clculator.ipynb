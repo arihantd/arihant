{
  "nbformat": 4,
  "nbformat_minor": 0,
  "metadata": {
    "colab": {
      "provenance": [],
      "authorship_tag": "ABX9TyNtLm3yMOyY8MGxjyjRTSop",
      "include_colab_link": true
    },
    "kernelspec": {
      "name": "python3",
      "display_name": "Python 3"
    },
    "language_info": {
      "name": "python"
    }
  },
  "cells": [
    {
      "cell_type": "markdown",
      "metadata": {
        "id": "view-in-github",
        "colab_type": "text"
      },
      "source": [
        "<a href=\"https://colab.research.google.com/github/arihantd/arihant/blob/main/clculator.ipynb\" target=\"_parent\"><img src=\"https://colab.research.google.com/assets/colab-badge.svg\" alt=\"Open In Colab\"/></a>"
      ]
    },
    {
      "cell_type": "code",
      "source": [
        "a=int(input('enter a number:'))\n",
        "b=int(input('enter another number:'))\n",
        "c=input('enter symbol')\n",
        "if c=='+':\n",
        "  print(a+b)\n",
        "elif c=='-':\n",
        "  print(a-b)\n",
        "elif c=='*':\n",
        "  print(a*b)\n",
        "elif c=='**':\n",
        "  print(a**b)\n",
        "elif c=='%':\n",
        "  print(a%b)\n",
        "elif c=='/':\n",
        "  print(a/b)\n",
        "elif c =='<':\n",
        "  if a > b:\n",
        "    print('a is greater than b')\n",
        "  elif a==b:\n",
        "    print('a is equal to b')\n",
        "  else:\n",
        "    print('b is greater than a')\n",
        "\n"
      ],
      "metadata": {
        "colab": {
          "base_uri": "https://localhost:8080/"
        },
        "id": "fkk5wK4yCab1",
        "outputId": "3a132b7e-a0a7-4a8f-b523-efd5355cefce"
      },
      "execution_count": 16,
      "outputs": [
        {
          "output_type": "stream",
          "name": "stdout",
          "text": [
            "enter a number:20\n",
            "enter another number:20\n",
            "enter symbol<\n",
            "a is equal to b\n"
          ]
        }
      ]
    }
  ]
}